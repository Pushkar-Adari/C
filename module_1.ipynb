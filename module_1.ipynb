{
  "nbformat": 4,
  "nbformat_minor": 0,
  "metadata": {
    "colab": {
      "name": "module 1.ipynb",
      "provenance": [],
      "collapsed_sections": [],
      "authorship_tag": "ABX9TyOVsxkCBRJvceUtam+3AgLB",
      "include_colab_link": true
    },
    "kernelspec": {
      "name": "python3",
      "display_name": "Python 3"
    },
    "language_info": {
      "name": "python"
    }
  },
  "cells": [
    {
      "cell_type": "markdown",
      "metadata": {
        "id": "view-in-github",
        "colab_type": "text"
      },
      "source": [
        "<a href=\"https://colab.research.google.com/github/Pushkar-Adari/C/blob/main/module_1.ipynb\" target=\"_parent\"><img src=\"https://colab.research.google.com/assets/colab-badge.svg\" alt=\"Open In Colab\"/></a>"
      ]
    },
    {
      "cell_type": "code",
      "execution_count": null,
      "metadata": {
        "colab": {
          "base_uri": "https://localhost:8080/"
        },
        "id": "2oCdME2wQ4MJ",
        "outputId": "54094068-4477-41bb-9bb4-563db17a2509"
      },
      "outputs": [
        {
          "output_type": "stream",
          "name": "stdout",
          "text": [
            "Enter number: 5\n",
            "5\n"
          ]
        }
      ],
      "source": [
        "# Accept input from user and store it in variable and print the value.\n",
        "a = int(input(\"Enter number: \"))\n",
        "print (a)"
      ]
    },
    {
      "cell_type": "code",
      "source": [
        "# Use of print statements and use of (.format )for printing different data types\n",
        "a=4\n",
        "b=str(a)\n",
        "print (type(b))\n",
        "print (b)"
      ],
      "metadata": {
        "colab": {
          "base_uri": "https://localhost:8080/"
        },
        "id": "yrSeqsaSRIFT",
        "outputId": "6cdc7401-81b9-435e-b447-c087b885cb9a"
      },
      "execution_count": null,
      "outputs": [
        {
          "output_type": "stream",
          "name": "stdout",
          "text": [
            "<class 'str'>\n",
            "4\n"
          ]
        }
      ]
    },
    {
      "cell_type": "code",
      "source": [
        "#Take 2 numbers as user input and add, multiply, divide, subtract, remainder and print the output\n",
        "a=int(input(\"Enter num1: \"))\n",
        "b=int(input(\"Enter num2: \"))\n",
        "sum = a + b\n",
        "sub = a - b\n",
        "mul = a * b\n",
        "div = a / b\n",
        "rem = a % b\n",
        "\n",
        "print (sum)\n",
        "print (sub)\n",
        "print (mul)\n",
        "print (div)\n",
        "print (rem)"
      ],
      "metadata": {
        "colab": {
          "base_uri": "https://localhost:8080/"
        },
        "id": "mH0RafR5R3RJ",
        "outputId": "ad13880c-8a84-4523-cd88-360d1891c70f"
      },
      "execution_count": null,
      "outputs": [
        {
          "output_type": "stream",
          "name": "stdout",
          "text": [
            "Enter num1: 10\n",
            "Enter num2: 5\n",
            "15\n",
            "5\n",
            "50\n",
            "2.0\n",
            "0\n"
          ]
        }
      ]
    },
    {
      "cell_type": "code",
      "source": [
        "#Conversion of one unit to another\n",
        "hours = int(input(\"Enter hour: \"))\n",
        "minutes = 60 * hours\n",
        "print (minutes)"
      ],
      "metadata": {
        "colab": {
          "base_uri": "https://localhost:8080/"
        },
        "id": "gETP4Rf3S-x6",
        "outputId": "36cb71d7-0e14-4cf0-de86-16c2a132290b"
      },
      "execution_count": null,
      "outputs": [
        {
          "output_type": "stream",
          "name": "stdout",
          "text": [
            "Enter hour: 5\n",
            "300\n"
          ]
        }
      ]
    },
    {
      "cell_type": "code",
      "source": [
        "#calculator using switch\n",
        "print (\"Enter 1 for addition\")\n",
        "print (\"Enter 2 for subtraction\")\n",
        "print (\"Enter 3 for multiplication\")\n",
        "print (\"Enter 4 for division\")\n",
        "op = int(input(\"Enter number corresponding to operation:\"))\n",
        "a=int(input(\"Enter num1: \"))\n",
        "b=int(input(\"Enter num2: \"))\n",
        "if op == 1:\n",
        "  print(a + b)\n",
        "elif op == 2:\n",
        "  print(a - b)\n",
        "elif op == 3:\n",
        "  print(a * b)\n",
        "elif op == 4:\n",
        "  print(a / b)\n",
        "else:\n",
        "  print(\"Enter a valid input\")\n"
      ],
      "metadata": {
        "colab": {
          "base_uri": "https://localhost:8080/"
        },
        "id": "X5CSLePgUgfR",
        "outputId": "0c7ebc54-cb7b-4bbf-eeb3-b55ad81523b7"
      },
      "execution_count": null,
      "outputs": [
        {
          "output_type": "stream",
          "name": "stdout",
          "text": [
            "Enter 1 for addition\n",
            "Enter 2 for subtraction\n",
            "Enter 3 for multiplication\n",
            "Enter 4 for division\n",
            "Enter number corresponding to operation:3\n",
            "Enter num1: 60\n",
            "Enter num2: 3\n",
            "180\n"
          ]
        }
      ]
    },
    {
      "cell_type": "code",
      "source": [
        "sub1 = int(input(\"Enter marks in sub1: \"))\n",
        "sub2 = int(input(\"Enter marks in sub2: \"))\n",
        "sub3 = int(input(\"Enter marks in sub3: \"))\n",
        "sub4 = int(input(\"Enter marks in sub4: \"))\n",
        "sub5 = int(input(\"Enter marks in sub5: \"))\n",
        "#sub1\n",
        "if sub1 >= 90:\n",
        "  print(\"A in sub1\")\n",
        "elif (90 > sub1 >= 80):\n",
        "  print(\"B in sub1\")\n",
        "elif (80 > sub1 >= 70):\n",
        "  print(\"C in sub1\")\n",
        "elif (70 > sub1 >= 60):\n",
        "  print(\"D in sub1\")\n",
        "elif (60 > sub1 >= 50):\n",
        "  print(\"E in sub1\")\n",
        "else:\n",
        "  print(\"f\")\n",
        "#sub2\n",
        "if sub2 >= 90:\n",
        "  print(\"A in sub2\")\n",
        "elif (90 > sub2 >= 80):\n",
        "  print(\"B in sub2\")\n",
        "elif (80 > sub2 >= 70):\n",
        "  print(\"C in sub2\")\n",
        "elif (70 > sub2 >= 60):\n",
        "  print(\"D in sub2\")\n",
        "elif (60 > sub2 >= 50):\n",
        "  print(\"E in sub2\")\n",
        "else:\n",
        "  print(\"f\")\n",
        "#sub3\n",
        "if sub3 >= 90:\n",
        "  print(\"A in sub3\")\n",
        "elif (90 > sub3 >= 80):\n",
        "  print(\"B in sub3\")\n",
        "elif (80 > sub3 >= 70):\n",
        "  print(\"C in sub3\")\n",
        "elif (70 > sub3 >= 60):\n",
        "  print(\"D in sub3\")\n",
        "elif (60 > sub3 >= 50):\n",
        "  print(\"E in sub3\")\n",
        "else:\n",
        "  print(\"f\")\n",
        "#sub4\n",
        "if sub4 >= 90:\n",
        "  print(\"A in sub4\")\n",
        "elif (90 > sub4 >= 80):\n",
        "  print(\"B in sub4\")\n",
        "elif (80 > sub4 >= 70):\n",
        "  print(\"C in sub4\")\n",
        "elif (70 > sub4 >= 60):\n",
        "  print(\"D in sub4\")\n",
        "elif (60 > sub4 >= 50):\n",
        "  print(\"E in sub4\")\n",
        "else:\n",
        "  print(\"f\")\n",
        "#sub5\n",
        "if sub5 >= 90:\n",
        "  print(\"A in sub5\")\n",
        "elif (90 > sub5 >= 80):\n",
        "  print(\"B in sub5\")\n",
        "elif (80 > sub5 >= 70):\n",
        "  print(\"C in sub5\")\n",
        "elif (70 > sub5 >= 60):\n",
        "  print(\"D in sub5\")\n",
        "elif (60 > sub5 >= 50):\n",
        "  print(\"E in sub5\")\n",
        "else:\n",
        "  print(\"f\")"
      ],
      "metadata": {
        "colab": {
          "base_uri": "https://localhost:8080/"
        },
        "id": "GtdqtlBKX08J",
        "outputId": "71872299-e931-49b7-9489-f8a8f013b856"
      },
      "execution_count": null,
      "outputs": [
        {
          "output_type": "stream",
          "name": "stdout",
          "text": [
            "Enter marks in sub1: 75\n",
            "Enter marks in sub2: 90\n",
            "Enter marks in sub3: 16\n",
            "Enter marks in sub4: 85\n",
            "Enter marks in sub5: 60\n",
            "C in sub1\n",
            "A in sub2\n",
            "f\n",
            "B in sub4\n",
            "D in sub5\n"
          ]
        }
      ]
    },
    {
      "cell_type": "code",
      "source": [
        "#Printing all even numbers, odd numbers, count of even numbers, count of odd numbers within a given range\n",
        "range = int(input(\"Enter range of numbers: \"))\n",
        "a = 1\n",
        "even = []\n",
        "odd = []\n",
        "while a <= range:\n",
        "  if a % 2 == 0:\n",
        "    even.append (a)\n",
        "    a = a + 1\n",
        "  else:\n",
        "    odd.append (a)\n",
        "    a = a + 1\n",
        "print (\"Even numbers are \",even)\n",
        "print (\"Odd numbers are \",odd)\n",
        "print (\"Number of even number within the given range are \",len(even))\n",
        "print (\"Number of odd number within the given range are \",len(odd))"
      ],
      "metadata": {
        "id": "Hrd6GrTsay5Q",
        "colab": {
          "base_uri": "https://localhost:8080/"
        },
        "outputId": "1f3eb7ed-1ecf-43cb-b12e-18b414d7e1fa"
      },
      "execution_count": null,
      "outputs": [
        {
          "output_type": "stream",
          "name": "stdout",
          "text": [
            "Enter range of numbers: 20\n",
            "Even numbers are  [2, 4, 6, 8, 10, 12, 14, 16, 18, 20]\n",
            "Odd numbers are  [1, 3, 5, 7, 9, 11, 13, 15, 17, 19]\n",
            "Number of even number within the given range are  10\n",
            "Number of odd number within the given range are  10\n"
          ]
        }
      ]
    },
    {
      "cell_type": "code",
      "source": [
        "num = int(input(\"Enter num \"))\n",
        "factorial = 1\n",
        "for i in range(1,num + 1):\n",
        "  factorial = factorial*i    \n",
        "print(\"The factorial of\",num,\"is\",factorial)    "
      ],
      "metadata": {
        "colab": {
          "base_uri": "https://localhost:8080/"
        },
        "id": "4xphu4pTllOJ",
        "outputId": "7864869d-f3da-4370-d1f2-eb54a8b653cb"
      },
      "execution_count": null,
      "outputs": [
        {
          "output_type": "stream",
          "name": "stdout",
          "text": [
            "Enter num 5\n",
            "The factorial of 5 is 120\n"
          ]
        }
      ]
    },
    {
      "cell_type": "code",
      "source": [
        "num1 = int(input(\"Enter first number: \"))\n",
        "num2 = int(input(\"Enter second number: \"))\n",
        "a = 1\n",
        "b = 1\n",
        "fact1 = []\n",
        "fact2 = []\n",
        "\n",
        "trash1 = []\n",
        "trash2 = []\n",
        "\n",
        "common = []\n",
        "result = []\n",
        "#NUM1\n",
        "while a <= num1:\n",
        "  if num1 % a == 0:\n",
        "    fact1.append(a)\n",
        "    a = a + 1\n",
        "  else:\n",
        "    trash1.append(a)\n",
        "    a = a + 1\n",
        "#NUM2\n",
        "while b <= num2:\n",
        "  if num2 % b == 0:\n",
        "    fact2.append(b)\n",
        "    b = b + 1\n",
        "  else:\n",
        "    trash2.append(a)\n",
        "    b = b + 1\n",
        "common = (set(fact1).intersection(fact2))\n",
        "result = list(common)\n",
        "print (\"The HCF of\",num1,\"and\",num2,\"is\",result [-1])"
      ],
      "metadata": {
        "colab": {
          "base_uri": "https://localhost:8080/"
        },
        "id": "WAe2iL6ymk2A",
        "outputId": "ccc2dfdf-fed1-4289-f5b1-3863c818880a"
      },
      "execution_count": null,
      "outputs": [
        {
          "output_type": "stream",
          "name": "stdout",
          "text": [
            "Enter first number: 30\n",
            "Enter second number: 90\n",
            "The HCF of 30 and 90 is 30\n"
          ]
        }
      ]
    },
    {
      "cell_type": "code",
      "source": [
        "#fibonacci series\n",
        "range = int(input(\"Enter number of elements in the fibonacci series: \"))\n",
        "n1 = 0\n",
        "n2 = 1\n",
        "a = 0\n",
        "while a <= range:\n",
        "  print (n1)\n",
        "  n0 = n1 + n2\n",
        "  n1 = n2\n",
        "  n2 = n0\n",
        "  a = a + 1"
      ],
      "metadata": {
        "colab": {
          "base_uri": "https://localhost:8080/"
        },
        "id": "MNMa9aISe_hD",
        "outputId": "a630c4c1-54f0-4de5-d77f-5107e7b2fece"
      },
      "execution_count": null,
      "outputs": [
        {
          "output_type": "stream",
          "name": "stdout",
          "text": [
            "Enter number of elements in the fibonacci series: 5\n",
            "0\n",
            "1\n",
            "1\n",
            "2\n",
            "3\n",
            "5\n"
          ]
        }
      ]
    },
    {
      "cell_type": "code",
      "source": [
        "#Check whether the given number is a palindrome or not\n",
        "num = int(input(\"Enter the number: \"))\n",
        "final = num\n",
        "temp = num\n",
        "rev = 0\n",
        "while (num > 0):\n",
        "  last = num % 10\n",
        "  rev = rev * 10 + last\n",
        "  num = num // 10\n",
        "if (temp == rev):\n",
        "  print (final,\"is a palindrome.\")\n",
        "else:\n",
        "  print (final,\"is not a palindrome.\")"
      ],
      "metadata": {
        "colab": {
          "base_uri": "https://localhost:8080/"
        },
        "id": "dMU_kmfus5-4",
        "outputId": "49b111be-ce65-4fbd-8ee8-fa2d3f711f23"
      },
      "execution_count": null,
      "outputs": [
        {
          "output_type": "stream",
          "name": "stdout",
          "text": [
            "Enter the number: 12321\n",
            "12321 is a palindrome.\n"
          ]
        }
      ]
    },
    {
      "cell_type": "code",
      "source": [
        "#armstrong number\n",
        "num = int(input(\"Enter the number: \"))\n",
        "temp = num\n",
        "while (num >= 1):\n",
        "  num = num + num\n",
        "  num = num - 1\n",
        "if (temp == num):\n",
        "  print (\"The numer is an armstrong number\")\n",
        "else:\n",
        "  print (\"The number is not an armstrong number\")"
      ],
      "metadata": {
        "colab": {
          "base_uri": "https://localhost:8080/",
          "height": 252
        },
        "id": "ZbuR0Hz4vBbu",
        "outputId": "9b728fb2-dbc0-45e6-b694-8f0229de509a"
      },
      "execution_count": null,
      "outputs": [
        {
          "name": "stdout",
          "output_type": "stream",
          "text": [
            "Enter the number: 153\n"
          ]
        },
        {
          "output_type": "error",
          "ename": "KeyboardInterrupt",
          "evalue": "ignored",
          "traceback": [
            "\u001b[0;31m---------------------------------------------------------------------------\u001b[0m",
            "\u001b[0;31mKeyboardInterrupt\u001b[0m                         Traceback (most recent call last)",
            "\u001b[0;32m<ipython-input-18-ccde0b8da35c>\u001b[0m in \u001b[0;36m<module>\u001b[0;34m()\u001b[0m\n\u001b[1;32m      4\u001b[0m \u001b[0;32mwhile\u001b[0m \u001b[0;34m(\u001b[0m\u001b[0mnum\u001b[0m \u001b[0;34m>=\u001b[0m \u001b[0;36m1\u001b[0m\u001b[0;34m)\u001b[0m\u001b[0;34m:\u001b[0m\u001b[0;34m\u001b[0m\u001b[0;34m\u001b[0m\u001b[0m\n\u001b[1;32m      5\u001b[0m   \u001b[0mnum\u001b[0m \u001b[0;34m=\u001b[0m \u001b[0mnum\u001b[0m \u001b[0;34m+\u001b[0m \u001b[0mnum\u001b[0m\u001b[0;34m\u001b[0m\u001b[0;34m\u001b[0m\u001b[0m\n\u001b[0;32m----> 6\u001b[0;31m   \u001b[0mnum\u001b[0m \u001b[0;34m=\u001b[0m \u001b[0mnum\u001b[0m \u001b[0;34m-\u001b[0m \u001b[0;36m1\u001b[0m\u001b[0;34m\u001b[0m\u001b[0;34m\u001b[0m\u001b[0m\n\u001b[0m\u001b[1;32m      7\u001b[0m \u001b[0;32mif\u001b[0m \u001b[0;34m(\u001b[0m\u001b[0mtemp\u001b[0m \u001b[0;34m==\u001b[0m \u001b[0mnum\u001b[0m\u001b[0;34m)\u001b[0m\u001b[0;34m:\u001b[0m\u001b[0;34m\u001b[0m\u001b[0;34m\u001b[0m\u001b[0m\n\u001b[1;32m      8\u001b[0m   \u001b[0mprint\u001b[0m \u001b[0;34m(\u001b[0m\u001b[0;34m\"The numer is an armstrong number\"\u001b[0m\u001b[0;34m)\u001b[0m\u001b[0;34m\u001b[0m\u001b[0;34m\u001b[0m\u001b[0m\n",
            "\u001b[0;31mKeyboardInterrupt\u001b[0m: "
          ]
        }
      ]
    }
  ]
}